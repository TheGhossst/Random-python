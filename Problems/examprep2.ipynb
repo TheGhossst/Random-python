{
 "cells": [
  {
   "cell_type": "code",
   "execution_count": null,
   "metadata": {},
   "outputs": [
    {
     "ename": "",
     "evalue": "",
     "output_type": "error",
     "traceback": [
      "\u001b[1;31mRunning cells with 'Python 3.10.8' requires the ipykernel package.\n",
      "\u001b[1;31mRun the following command to install 'ipykernel' into the Python environment. \n",
      "\u001b[1;31mCommand: 'c:/msys64/mingw64/bin/python.exe -m pip install ipykernel -U --user --force-reinstall'"
     ]
    }
   ],
   "source": [
    "def isPrime(number):\n",
    "    if number < 1:\n",
    "        print(f\"{number} is not prime\")\n",
    "    elif number == 1:\n",
    "        print(f\"{number} is not prime not composite\")\n",
    "    else:\n",
    "        f = 0\n",
    "        for i in range(2, number):\n",
    "            if number % i == 0:\n",
    "                f = 1\n",
    "                break\n",
    "        \n",
    "        if f:\n",
    "            print(f\"{number} is not prime\")\n",
    "        else:\n",
    "            print(f\"{number} is prime\")\n",
    "            \n",
    "number = int(input(\"Enter a number : \"))\n",
    "isPrime(number)"
   ]
  },
  {
   "cell_type": "code",
   "execution_count": null,
   "metadata": {},
   "outputs": [],
   "source": []
  }
 ],
 "metadata": {
  "kernelspec": {
   "display_name": "Python 3",
   "language": "python",
   "name": "python3"
  },
  "language_info": {
   "name": "python",
   "version": "3.10.8"
  }
 },
 "nbformat": 4,
 "nbformat_minor": 2
}
